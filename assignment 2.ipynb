{
 "cells": [
  {
   "cell_type": "markdown",
   "metadata": {},
   "source": [
    "# 1. Q---what are the two values of the Boolean data type? how do you write them?\n",
    "\n",
    "\n",
    "# True & False ,\n",
    "# using first letter of the (true ) and (false) in capital letter."
   ]
  },
  {
   "cell_type": "markdown",
   "metadata": {},
   "source": [
    "# 2. what are the three different types of boolean operators?\n",
    "\n",
    "# ---> and,or, not"
   ]
  },
  {
   "cell_type": "markdown",
   "metadata": {},
   "source": [
    "# 3. make a lest of each Boolean operator's truth tables "
   ]
  },
  {
   "cell_type": "code",
   "execution_count": 35,
   "metadata": {},
   "outputs": [
    {
     "name": "stdout",
     "output_type": "stream",
     "text": [
      "true and true----> True\n",
      "True and false---> False\n",
      "False and true  ---> False\n",
      "False and False--> False\n",
      "True or True---> True\n",
      "True or False---> True\n",
      "False or True---> True\n",
      "False or False--> False\n",
      "False\n",
      "True\n"
     ]
    }
   ],
   "source": [
    "a=2\n",
    "b=3\n",
    "#and -- True & True a=2 ,b=3\n",
    "print(\"true and true---->\",(a==2)&(b==3))\n",
    "\n",
    "#and-- True & false a=2,b=3\n",
    "print(\"True and false--->\",(a>1)&(b>4))\n",
    "\n",
    "#and-- False & true a=2,b=3\n",
    "print(\"False and true  --->\",(a<1)&(b>1))\n",
    "\n",
    "## and-- False and False a=2,b=3\n",
    "print(\"False and False-->\",(a==1) & (b==4))\n",
    "\n",
    "# or--True or True a=2,b=3\n",
    "print(\"True or True--->\",(a==2) or (b==3))\n",
    "\n",
    "# or- True or False a=2, b=3\n",
    "print(\"True or False--->\",(a>1) or (b<2))\n",
    "\n",
    "# or-  False or True  a=2, b=3\n",
    "print(\"False or True--->\",(a<1) or (b>2))\n",
    "\n",
    "# or -- False or False\n",
    "print(\"False or False-->\",(a<1) or (b<2))\n",
    "\n",
    "## not\n",
    "print(not True)\n",
    "print(not False)\n"
   ]
  },
  {
   "cell_type": "markdown",
   "metadata": {},
   "source": [
    "# True==1\n",
    "# False==0\n",
    "\n",
    "# And truth table\n",
    "# A B -->output\n",
    "# 0 0 --> 0\n",
    "# 0 1 --> 0\n",
    "# 1 0 --> 0\n",
    "# 1 1 --> 1\n",
    "\n",
    "\n",
    "# or truth table\n",
    "# A B --> output\n",
    "# 0 1 --> 1\n",
    "# 1 0 --> 1\n",
    "# 0 0 --> 0\n",
    "# 1 1 --> 1\n",
    "\n",
    "# not truth table\n",
    "\n",
    "# A output\n",
    "# 0 1\n",
    "# 1 0"
   ]
  },
  {
   "cell_type": "markdown",
   "metadata": {},
   "source": [
    "# 4. values of following expression \n"
   ]
  },
  {
   "cell_type": "code",
   "execution_count": 9,
   "metadata": {},
   "outputs": [
    {
     "name": "stdout",
     "output_type": "stream",
     "text": [
      "False\n",
      "False\n",
      "False\n",
      "False\n",
      "True\n",
      "True\n"
     ]
    }
   ],
   "source": [
    "print((5>4)and(3==5))\n",
    "print(not(5>4))\n",
    "print(not(5>4) or(3==5))\n",
    "print((True & True) and (True==False))\n",
    "print((not False) or (not True))\n",
    "print((not False) or (not True))"
   ]
  },
  {
   "cell_type": "markdown",
   "metadata": {},
   "source": [
    "# 5. what are the six comparison operators?\n",
    "\n",
    "# a. ==\n",
    "# b. !=\n",
    "# c. <\n",
    "# d. >\n",
    "# e. <=\n",
    "# f. =>"
   ]
  },
  {
   "cell_type": "markdown",
   "metadata": {},
   "source": [
    "# 6. How do you tell the difference between the equal to and assignment and operators? describe\n",
    "\n",
    "\n",
    "# == is the equal to ooperator  that compares two values and evaluates to a Boolean ,\n",
    "# while = is the assignment operator that stores a value in a variable."
   ]
  },
  {
   "cell_type": "code",
   "execution_count": 34,
   "metadata": {},
   "outputs": [
    {
     "data": {
      "text/plain": [
       "True"
      ]
     },
     "execution_count": 34,
     "metadata": {},
     "output_type": "execute_result"
    }
   ],
   "source": [
    "##  == is the equal to ooperator  that compares two values and evaluates to a Boolean,\n",
    "a=3   \n",
    "a==3"
   ]
  },
  {
   "cell_type": "markdown",
   "metadata": {},
   "source": [
    "# 7.----identif0y block"
   ]
  },
  {
   "cell_type": "code",
   "execution_count": 39,
   "metadata": {},
   "outputs": [
    {
     "name": "stdout",
     "output_type": "stream",
     "text": [
      "ham\n",
      "spam\n",
      "spam\n"
     ]
    }
   ],
   "source": [
    "spam=0\n",
    "if spam==10:\n",
    "    print('eggs')  # block--1\n",
    "if spam>5:         # block ---2\n",
    "    print('bacon')\n",
    "else:\n",
    "    print('ham')  #block--3\n",
    "    print('spam')\n",
    "    print('spam')            "
   ]
  },
  {
   "cell_type": "markdown",
   "metadata": {},
   "source": [
    "# 8. write code that prints hello if 1 is stored in spam , prints Howdy if 2 is stored in spam and prints Greetings!,\n",
    " # if anything else is stored in spam"
   ]
  },
  {
   "cell_type": "code",
   "execution_count": 36,
   "metadata": {},
   "outputs": [
    {
     "name": "stdout",
     "output_type": "stream",
     "text": [
      "howdy\n"
     ]
    }
   ],
   "source": [
    "spam= int(input(\"number\"))  ## number 2\n",
    "if spam == 1:\n",
    "    print(\"hello\")\n",
    "elif spam ==2:\n",
    "    print(\"howdy\")\n",
    "else:\n",
    "    print        "
   ]
  },
  {
   "cell_type": "markdown",
   "metadata": {},
   "source": [
    "# 9. if your programme is stuck in an endless loop , what keys you'll press?\n",
    "\n",
    "\n",
    "# ---> ctrl+c"
   ]
  },
  {
   "cell_type": "markdown",
   "metadata": {},
   "source": [
    "# 10. how can you tell the difference between break and continue?\n",
    "\n",
    "# ---> break statement move the execution outside , just after a loop but the continue statement move the execution\n",
    " # move the exccution to the start of the loop.\n",
    " \n",
    " exampele--"
   ]
  },
  {
   "cell_type": "code",
   "execution_count": 55,
   "metadata": {},
   "outputs": [
    {
     "name": "stdout",
     "output_type": "stream",
     "text": [
      "0\n",
      "1\n",
      "2\n",
      "break\n",
      "0\n",
      "1\n",
      "2\n",
      "4\n",
      "5\n"
     ]
    }
   ],
   "source": [
    "a=6\n",
    "for i in range (a):     #break\n",
    "    if i==3:\n",
    "        break\n",
    "    print(i)\n",
    "print('break') \n",
    "\n",
    "for i in range(a):    #continue\n",
    "    if (i==3):\n",
    "        continue\n",
    "    print(i)      "
   ]
  },
  {
   "cell_type": "markdown",
   "metadata": {},
   "source": [
    "# 11. difference between range(10), range(0,10), range(0,10,1) in for loop.\n",
    "\n",
    "\n",
    "\n",
    "# --->practically in python this three ranges has no difference.\n",
    " # but basis of theory has no difference between range(10), and range(0,10) but except -- range(0,10,1)\n",
    "\n",
    " # range(10)-- that show the range 0 to 10\n",
    " # range(0,10)-- that show the range 0 to 10,\n",
    "\n",
    " # but range (0,10,1) -- that show the range same 0 to 10 but values will increase one by one , +1 , the last digit\n",
    " # of the bracket(1) show the how much will increse\n",
    "\n",
    " # example---is the best method"
   ]
  },
  {
   "cell_type": "code",
   "execution_count": 70,
   "metadata": {},
   "outputs": [
    {
     "name": "stdout",
     "output_type": "stream",
     "text": [
      "0\n",
      "1\n",
      "2\n",
      "3\n",
      "4\n",
      "5\n",
      "6\n",
      "7\n",
      "8\n",
      "9\n"
     ]
    }
   ],
   "source": [
    "for i in range(10):\n",
    "    print(i)"
   ]
  },
  {
   "cell_type": "code",
   "execution_count": 75,
   "metadata": {},
   "outputs": [
    {
     "name": "stdout",
     "output_type": "stream",
     "text": [
      "0\n",
      "1\n",
      "2\n",
      "3\n",
      "4\n",
      "5\n",
      "6\n",
      "7\n",
      "8\n",
      "9\n"
     ]
    }
   ],
   "source": [
    "for j in range(0,10):\n",
    "    print(j)"
   ]
  },
  {
   "cell_type": "code",
   "execution_count": 76,
   "metadata": {},
   "outputs": [
    {
     "name": "stdout",
     "output_type": "stream",
     "text": [
      "0\n",
      "1\n",
      "2\n",
      "3\n",
      "4\n",
      "5\n",
      "6\n",
      "7\n",
      "8\n",
      "9\n"
     ]
    }
   ],
   "source": [
    "for l in range(0,10,1):\n",
    "    print(l)"
   ]
  },
  {
   "cell_type": "code",
   "execution_count": 77,
   "metadata": {},
   "outputs": [
    {
     "name": "stdout",
     "output_type": "stream",
     "text": [
      "0\n",
      "2\n",
      "4\n",
      "6\n",
      "8\n"
     ]
    }
   ],
   "source": [
    "# we can see there has no difference avove the three for loop  practically \n",
    "# but if i do range(0,10,2) then difference will be clear,\n",
    "\n",
    "for l in range(0,10,2):\n",
    "    print(l)\n"
   ]
  },
  {
   "cell_type": "code",
   "execution_count": null,
   "metadata": {},
   "outputs": [],
   "source": [
    "## so here range value increase by +2"
   ]
  },
  {
   "cell_type": "markdown",
   "metadata": {},
   "source": [
    "# 12. write a short program that prints the numbers 1 to 10 using a for loop . \n",
    "# then write an equivalent program that prints the numbers 1 to 10 using while loop"
   ]
  },
  {
   "cell_type": "code",
   "execution_count": 4,
   "metadata": {},
   "outputs": [
    {
     "name": "stdout",
     "output_type": "stream",
     "text": [
      "for loop\n",
      "1\n",
      "2\n",
      "3\n",
      "4\n",
      "5\n",
      "6\n",
      "7\n",
      "8\n",
      "9\n",
      "10\n",
      "while loop\n",
      "1\n",
      "2\n",
      "3\n",
      "4\n",
      "5\n",
      "6\n",
      "7\n",
      "8\n",
      "9\n",
      "10\n"
     ]
    }
   ],
   "source": [
    "## for loop\n",
    "print(\"for loop\")\n",
    "for j in range(1,11):\n",
    "    print(j)\n",
    "   \n",
    "# while looop\n",
    "    \n",
    "print(\"while loop\")\n",
    "p=1\n",
    "while p<=10:\n",
    "    print(p)\n",
    "    p=p+1\n",
    "    "
   ]
  },
  {
   "cell_type": "markdown",
   "metadata": {},
   "source": [
    "# 13.  if you had a function named bacon() inside a module named spam, how would you call it after importing spam?\n",
    "\n",
    "# --->  spam.bacon()"
   ]
  }
 ],
 "metadata": {
  "interpreter": {
   "hash": "26de051ba29f2982a8de78e945f0abaf191376122a1563185a90213a26c5da77"
  },
  "kernelspec": {
   "display_name": "Python 3.10.4 64-bit (system)",
   "language": "python",
   "name": "python3"
  },
  "language_info": {
   "codemirror_mode": {
    "name": "ipython",
    "version": 3
   },
   "file_extension": ".py",
   "mimetype": "text/x-python",
   "name": "python",
   "nbconvert_exporter": "python",
   "pygments_lexer": "ipython3",
   "version": "3.10.4"
  },
  "orig_nbformat": 4
 },
 "nbformat": 4,
 "nbformat_minor": 2
}
